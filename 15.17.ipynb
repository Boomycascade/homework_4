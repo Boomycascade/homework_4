{
 "cells": [
  {
   "cell_type": "code",
   "execution_count": 12,
   "id": "991c1b4f",
   "metadata": {},
   "outputs": [
    {
     "name": "stdout",
     "output_type": "stream",
     "text": [
      "(569, 30)\n",
      "(569,)\n",
      "(426, 30)\n",
      "(143, 30)\n",
      "Accuracy: 0.95\n",
      "[[44  6]\n",
      " [ 1 92]]\n",
      "              precision    recall  f1-score   support\n",
      "\n",
      "   malignant       0.98      0.88      0.93        50\n",
      "      benign       0.94      0.99      0.96        93\n",
      "\n",
      "    accuracy                           0.95       143\n",
      "   macro avg       0.96      0.93      0.94       143\n",
      "weighted avg       0.95      0.95      0.95       143\n",
      "\n",
      "Mean accuracy: 0.94\n",
      "          GaussianNB: mean accuracy=0.94\n",
      "KNeighborsClassifier: mean accuracy=0.93\n",
      "  LogisticRegression: mean accuracy=0.95\n",
      "                 SVC: mean accuracy=0.92\n"
     ]
    },
    {
     "data": {
      "image/png": "[encoded data removed]",
      "text/plain": [
       "<Figure size 640x480 with 2 Axes>"
      ]
     },
     "metadata": {},
     "output_type": "display_data"
    }
   ],
   "source": [
    "from sklearn.datasets import load_breast_cancer\n",
    "from sklearn.model_selection import train_test_split\n",
    "from sklearn.naive_bayes import GaussianNB\n",
    "from sklearn.metrics import confusion_matrix, classification_report\n",
    "from sklearn.model_selection import KFold, cross_val_score\n",
    "from sklearn.neighbors import KNeighborsClassifier\n",
    "from sklearn.linear_model import LogisticRegression\n",
    "from sklearn.svm import SVC\n",
    "import seaborn as sns\n",
    " \n",
    "breast_cancer = load_breast_cancer()\n",
    "\n",
    "print(breast_cancer.data.shape)\n",
    "print(breast_cancer.target.shape)\n",
    "\n",
    "X_train, X_test, y_train, y_test = train_test_split(\n",
    "    breast_cancer.data, breast_cancer.target, random_state=11)\n",
    "\n",
    "print(X_train.shape)\n",
    "print(X_test.shape)\n",
    "\n",
    "nb = GaussianNB()\n",
    "\n",
    "nb.fit(X=X_train, y=y_train)\n",
    "\n",
    "predicted = nb.predict(X=X_test)\n",
    "expected = y_test\n",
    "\n",
    "print(f'Accuracy: {nb.score(X_test, y_test):.2f}')\n",
    "\n",
    "confusion = confusion_matrix(y_true=expected, y_pred=predicted)\n",
    "print(confusion)\n",
    "\n",
    "names = ['malignant', 'benign']\n",
    "print(classification_report(expected, predicted, target_names=names))\n",
    "\n",
    "sns.heatmap(confusion, annot=True, cmap='nipy_spectral_r')\n",
    "\n",
    "\n",
    "kfold = KFold(n_splits=10, random_state=11, shuffle=True)\n",
    "scores = cross_val_score(estimator=nb, X=breast_cancer.data,\n",
    "                         y=breast_cancer.target, cv=kfold)\n",
    "print(f'Mean accuracy: {scores.mean():.2f}')\n",
    "\n",
    "\n",
    "estimators = {\n",
    "    'GaussianNB': nb,\n",
    "    'KNeighborsClassifier': KNeighborsClassifier(),\n",
    "    'LogisticRegression': LogisticRegression(solver='lbfgs', multi_class='ovr', max_iter=10000),\n",
    "    'SVC': SVC(gamma='scale')\n",
    "}\n",
    "\n",
    "for estimator_name, estimator_object in estimators.items():\n",
    "    kfold = KFold(n_splits=10, random_state=11, shuffle=True)\n",
    "    scores = cross_val_score(estimator=estimator_object,\n",
    "                             X=breast_cancer.data, y=breast_cancer.target,\n",
    "                             cv=kfold)\n",
    "    print(f'{estimator_name:>20}: ' + f'mean accuracy={scores.mean():.2f}')\n"
   ]
  },
  {
   "cell_type": "code",
   "execution_count": null,
   "id": "8ba9fcb4",
   "metadata": {},
   "outputs": [],
   "source": []
  }
 ],
 "metadata": {
  "kernelspec": {
   "display_name": "Python 3 (ipykernel)",
   "language": "python",
   "name": "python3"
  },
  "language_info": {
   "codemirror_mode": {
    "name": "ipython",
    "version": 3
   },
   "file_extension": ".py",
   "mimetype": "text/x-python",
   "name": "python",
   "nbconvert_exporter": "python",
   "pygments_lexer": "ipython3",
   "version": "3.11.4"
  }
 },
 "nbformat": 4,
 "nbformat_minor": 5
}
